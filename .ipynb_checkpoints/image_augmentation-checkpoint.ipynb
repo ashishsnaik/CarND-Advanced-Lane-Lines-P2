{
 "cells": [
  {
   "cell_type": "code",
   "execution_count": 7,
   "metadata": {},
   "outputs": [],
   "source": [
    "from keras.preprocessing import image\n",
    "from keras import backend as K\n",
    "import matplotlib.pyplot as plt\n",
    "K.set_image_dim_ordering('tf')"
   ]
  },
  {
   "cell_type": "code",
   "execution_count": 8,
   "metadata": {
    "collapsed": true
   },
   "outputs": [],
   "source": [
    "img_dir = \"camera_cal_image_aug/\""
   ]
  },
  {
   "cell_type": "code",
   "execution_count": 11,
   "metadata": {
    "collapsed": true
   },
   "outputs": [],
   "source": [
    "img_gen = image.ImageDataGenerator(horizontal_flip=True, vertical_flip=True)\n",
    "#                                      , zoom_range=0.2)\n",
    "#                                      , rotation_range=15)"
   ]
  },
  {
   "cell_type": "code",
   "execution_count": 12,
   "metadata": {},
   "outputs": [
    {
     "name": "stdout",
     "output_type": "stream",
     "text": [
      "Found 20 images belonging to 1 classes.\n"
     ]
    }
   ],
   "source": [
    "# for i in range(3):\n",
    "_ = img_gen.flow_from_directory(img_dir, batch_size=64, target_size=(720, 1280), save_to_dir=img_dir, \n",
    "                                    save_prefix='aug', save_format='jpg').next()"
   ]
  },
  {
   "cell_type": "code",
   "execution_count": 37,
   "metadata": {},
   "outputs": [],
   "source": [
    "images = batch.next()"
   ]
  },
  {
   "cell_type": "code",
   "execution_count": 33,
   "metadata": {},
   "outputs": [
    {
     "data": {
      "text/plain": [
       "((9, 256, 256, 3), (9, 1))"
      ]
     },
     "execution_count": 33,
     "metadata": {},
     "output_type": "execute_result"
    }
   ],
   "source": [
    "# images[0].shape, images[1].shape"
   ]
  },
  {
   "cell_type": "code",
   "execution_count": 40,
   "metadata": {},
   "outputs": [],
   "source": [
    "# for img in images[0]:\n",
    "#     plt.imshow(img)\n",
    "#     plt.show()\n"
   ]
  },
  {
   "cell_type": "code",
   "execution_count": 39,
   "metadata": {},
   "outputs": [],
   "source": [
    "# aug_images = []\n",
    "# for X_batch, y_batch in img_gen.flow_from_directory(img_dir, batch_size=9, save_to_dir=img_dir, \n",
    "#                                                     save_prefix='aug', save_format='jpg'):\n",
    "#     # create a grid of 3x3 images\n",
    "#     for i in range(0, 9):\n",
    "# #         aug_images.append(X_batch[i])\n",
    "#         plt.subplot(330 + 1 + i)\n",
    "#         plt.imshow(X_batch[i])  #.reshape(28, 28),)\n",
    "#     # show the plot\n",
    "#     plt.show()\n",
    "#     break"
   ]
  },
  {
   "cell_type": "code",
   "execution_count": null,
   "metadata": {
    "collapsed": true
   },
   "outputs": [],
   "source": []
  }
 ],
 "metadata": {
  "kernelspec": {
   "display_name": "Python 3",
   "language": "python",
   "name": "python3"
  },
  "language_info": {
   "codemirror_mode": {
    "name": "ipython",
    "version": 3
   },
   "file_extension": ".py",
   "mimetype": "text/x-python",
   "name": "python",
   "nbconvert_exporter": "python",
   "pygments_lexer": "ipython3",
   "version": "3.6.6"
  }
 },
 "nbformat": 4,
 "nbformat_minor": 2
}
